{
 "cells": [
  {
   "cell_type": "markdown",
   "id": "a5d39337",
   "metadata": {},
   "source": [
    "# 🏙️ Airbnb Price Trends in NYC\n",
    "\n",
    "## 📌 Summary\n",
    "This Python-based project explores Airbnb pricing trends across New York City boroughs. It uses real-world-inspired data to uncover how factors like neighborhood, room type, reviews, and availability impact nightly rental prices. The project is ideal for showcasing practical data analysis and visualization skills relevant to business insights.\n"
   ]
  },
  {
   "cell_type": "markdown",
   "id": "754eede0",
   "metadata": {},
   "source": [
    "## 🎯 Objective\n",
    "To analyze Airbnb listings in NYC and answer key questions:\n",
    "- Which boroughs have the highest and lowest average Airbnb prices?\n",
    "- How does room type affect price?\n",
    "- Is there a relationship between number of reviews, availability, and price?\n"
   ]
  },
  {
   "cell_type": "markdown",
   "id": "6cb19eb2",
   "metadata": {},
   "source": [
    "## ⚙️ Tools & Environment\n",
    "- Python 3.11+\n",
    "- Jupyter Notebook (or any Python IDE)\n",
    "- Libraries: Pandas, Matplotlib, Seaborn\n"
   ]
  },
  {
   "cell_type": "markdown",
   "id": "52539d94",
   "metadata": {},
   "source": [
    "## 🧠 Techniques Demonstrated\n",
    "- Data cleaning and formatting with `pandas`\n",
    "- Grouping and aggregation\n",
    "- Visual analysis with `matplotlib` and `seaborn`\n",
    "- Correlation insights using scatter plots\n",
    "- Exporting and saving visualizations\n"
   ]
  },
  {
   "cell_type": "markdown",
   "id": "050301d2",
   "metadata": {},
   "source": [
    "## 🔎 Query Breakdown (Step-by-Step)\n",
    "1. Load a sample dataset of Airbnb listings in NYC\n",
    "2. Clean the dataset and standardize formats\n",
    "3. Group and aggregate average prices by borough\n",
    "4. Create visualizations: bar chart and scatter plot\n",
    "5. Interpret patterns and trends\n"
   ]
  },
  {
   "cell_type": "code",
   "execution_count": null,
   "id": "8818d54e",
   "metadata": {},
   "outputs": [],
   "source": [
    "import pandas as pd\n",
    "import matplotlib.pyplot as plt\n",
    "import seaborn as sns\n",
    "\n",
    "# Sample Airbnb NYC dataset\n",
    "data = {\n",
    "    'neighbourhood_group': ['Manhattan', 'Brooklyn', 'Queens', 'Manhattan', 'Brooklyn'],\n",
    "    'neighbourhood': ['Harlem', 'Williamsburg', 'Astoria', 'Midtown', 'Bushwick'],\n",
    "    'room_type': ['Entire home/apt', 'Private room', 'Entire home/apt', 'Private room', 'Entire home/apt'],\n",
    "    'price': [150, 80, 90, 100, 120],\n",
    "    'number_of_reviews': [100, 230, 45, 80, 190],\n",
    "    'availability_365': [200, 300, 150, 180, 220]\n",
    "}\n",
    "df = pd.DataFrame(data)\n",
    "\n",
    "# Group and plot average price by borough\n",
    "avg_price = df.groupby('neighbourhood_group')['price'].mean().reset_index()\n",
    "sns.barplot(x='neighbourhood_group', y='price', data=avg_price)\n",
    "plt.title('Average Airbnb Price by Borough')\n",
    "plt.ylabel('Average Price ($)')\n",
    "plt.xlabel('Borough')\n",
    "plt.show()\n",
    "\n",
    "# Price vs Reviews scatter plot\n",
    "sns.scatterplot(x='number_of_reviews', y='price', hue='room_type', data=df)\n",
    "plt.title('Price vs Number of Reviews')\n",
    "plt.xlabel('Number of Reviews')\n",
    "plt.ylabel('Price ($)')\n",
    "plt.show()\n"
   ]
  },
  {
   "cell_type": "markdown",
   "id": "a8ec8537",
   "metadata": {},
   "source": [
    "## 🖼️ Output Preview (Visuals)\n",
    "\n",
    "**📊 Average Airbnb Price by Borough**\n",
    "\n",
    "**📈 Price vs. Number of Reviews**\n"
   ]
  },
  {
   "cell_type": "markdown",
   "id": "e88a0cf3",
   "metadata": {},
   "source": [
    "## 📂 File\n",
    "This notebook file is called `airbnb_price_analysis.ipynb`.\n",
    "\n",
    "## 🔄 Next Steps\n",
    "- Use a full NYC dataset from Inside Airbnb or Kaggle\n",
    "- Incorporate geospatial visuals using `folium` or `plotly`\n",
    "- Add boxplots and statistical summaries\n",
    "- Explore simple regression or classification models\n"
   ]
  }
 ],
 "metadata": {},
 "nbformat": 4,
 "nbformat_minor": 5
}
